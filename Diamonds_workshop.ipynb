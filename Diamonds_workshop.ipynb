{
 "cells": [
  {
   "cell_type": "markdown",
   "id": "3a975655",
   "metadata": {},
   "source": [
    "# Importando bibliotecas necessarias para para modelagem"
   ]
  },
  {
   "cell_type": "code",
   "execution_count": 7,
   "id": "444dea2c",
   "metadata": {
    "ExecuteTime": {
     "end_time": "2022-07-19T20:36:38.129301Z",
     "start_time": "2022-07-19T20:36:35.887528Z"
    }
   },
   "outputs": [],
   "source": [
    "import pandas as pd\n",
    "import numpy as np\n",
    "import seaborn as sns\n",
    "from sklearn.linear_model import LinearRegression\n",
    "from sklearn import metrics\n",
    "import joblib"
   ]
  },
  {
   "cell_type": "markdown",
   "id": "178fb131",
   "metadata": {},
   "source": [
    "# Leitura dos dados"
   ]
  },
  {
   "cell_type": "code",
   "execution_count": 8,
   "id": "ff9c50e4",
   "metadata": {
    "ExecuteTime": {
     "end_time": "2022-07-19T20:36:38.206262Z",
     "start_time": "2022-07-19T20:36:38.161381Z"
    },
    "scrolled": true
   },
   "outputs": [],
   "source": [
    "df=pd.read_csv('diamonds_workshop.csv')\n"
   ]
  },
  {
   "cell_type": "markdown",
   "id": "1008db4d",
   "metadata": {},
   "source": [
    "# Passo a passo da modelagem"
   ]
  },
  {
   "cell_type": "code",
   "execution_count": 9,
   "id": "c322952f",
   "metadata": {
    "ExecuteTime": {
     "end_time": "2022-07-19T20:36:38.254229Z",
     "start_time": "2022-07-19T20:36:38.239214Z"
    },
    "code_folding": []
   },
   "outputs": [],
   "source": [
    "def create_log_columns(df,param):\n",
    "    #como na coluna rick não temos a coluna price, foi criado parametro que define se ela sera criada ou não\n",
    "    if param == 1:\n",
    "        df['price_log'] = np.log(df['price'])\n",
    "    #para as demais foi feito o log sendo que nas colunas que possam ter zeros é feito log(x+1)\n",
    "    df['carat_log']=np.log(df['carat'])\n",
    "    df = df[['carat_log','price_log','cut_num','color_num','clarity_num']]\n",
    "    return df"
   ]
  },
  {
   "cell_type": "code",
   "execution_count": 10,
   "id": "f75a9732",
   "metadata": {
    "ExecuteTime": {
     "end_time": "2022-07-19T20:36:38.300990Z",
     "start_time": "2022-07-19T20:36:38.287027Z"
    },
    "code_folding": []
   },
   "outputs": [],
   "source": [
    "def ger_model(df,modelo):\n",
    "    #cria uma função que gera um modelo com base no dataframe inputa\n",
    "    y= df['price_log']\n",
    "    X= df[['carat_log','cut_num','color_num']]\n",
    "    modelo.fit(X, y)\n",
    "    return modelo"
   ]
  },
  {
   "cell_type": "code",
   "execution_count": 11,
   "id": "3380374a",
   "metadata": {
    "ExecuteTime": {
     "end_time": "2022-07-19T20:36:38.348862Z",
     "start_time": "2022-07-19T20:36:38.333905Z"
    },
    "code_folding": []
   },
   "outputs": [],
   "source": [
    "def create_models_df(div_lst,modelos):\n",
    "    df_models = pd.DataFrame(zip(div_lst,modelos),columns=['clarity_num','model_name'])\n",
    "    df_models.apply(lambda row: joblib.dump(row['model_name'],str(row['clarity_num'])+'.pkl'),axis=1)\n",
    "    df_models['model_name'] = df_models['clarity_num'].apply(lambda x: str(x)+'.pkl')\n",
    "    return df_models"
   ]
  },
  {
   "cell_type": "code",
   "execution_count": 12,
   "id": "bb70aafc",
   "metadata": {
    "ExecuteTime": {
     "end_time": "2022-07-19T20:36:38.395586Z",
     "start_time": "2022-07-19T20:36:38.380626Z"
    },
    "code_folding": []
   },
   "outputs": [],
   "source": [
    "def do_predict(row,df_models):\n",
    "    #para cada linha é buscado o modelo correspondente e feito o predict\n",
    "    #busca qual o clarity na linha\n",
    "    clar = row['clarity_num']\n",
    "    #define o input conforme os dados da linha\n",
    "    X= [[row['carat_log'],row['cut_num'],row['color_num']]]\n",
    "    #busca o modelo correspondente conforme a clarity\n",
    "    model = df_models.loc[df_models['clarity_num']==clar,'loaded_model'].values[0]\n",
    "    #realiza a previsão\n",
    "    y_predict = model.predict(X)\n",
    "    #faz o exponencial para voltar a conversão feita no log\n",
    "    y_predict=np.exp(y_predict)\n",
    "    #retorna y_predict\n",
    "    return y_predict"
   ]
  },
  {
   "cell_type": "markdown",
   "id": "bb1d2547",
   "metadata": {},
   "source": [
    "# Execução do passo a passo\n"
   ]
  },
  {
   "cell_type": "code",
   "execution_count": 13,
   "id": "97aace20",
   "metadata": {
    "ExecuteTime": {
     "end_time": "2022-07-19T20:36:38.899951Z",
     "start_time": "2022-07-19T20:36:38.878999Z"
    },
    "code_folding": []
   },
   "outputs": [],
   "source": [
    "#aplica a função que trata o dataframe\n",
    "df_tratado = create_log_columns(df,1)\n"
   ]
  },
  {
   "cell_type": "code",
   "execution_count": 14,
   "id": "c58f90cb",
   "metadata": {
    "ExecuteTime": {
     "end_time": "2022-07-19T20:36:47.219701Z",
     "start_time": "2022-07-19T20:36:47.183796Z"
    },
    "cell_style": "split",
    "scrolled": true
   },
   "outputs": [
    {
     "data": {
      "text/html": [
       "<div>\n",
       "<style scoped>\n",
       "    .dataframe tbody tr th:only-of-type {\n",
       "        vertical-align: middle;\n",
       "    }\n",
       "\n",
       "    .dataframe tbody tr th {\n",
       "        vertical-align: top;\n",
       "    }\n",
       "\n",
       "    .dataframe thead th {\n",
       "        text-align: right;\n",
       "    }\n",
       "</style>\n",
       "<table border=\"1\" class=\"dataframe\">\n",
       "  <thead>\n",
       "    <tr style=\"text-align: right;\">\n",
       "      <th></th>\n",
       "      <th>carat</th>\n",
       "      <th>depth</th>\n",
       "      <th>table</th>\n",
       "      <th>price</th>\n",
       "      <th>x</th>\n",
       "      <th>y</th>\n",
       "      <th>z</th>\n",
       "      <th>clarity_num</th>\n",
       "      <th>cut_num</th>\n",
       "      <th>color_num</th>\n",
       "      <th>price_log</th>\n",
       "      <th>carat_log</th>\n",
       "    </tr>\n",
       "  </thead>\n",
       "  <tbody>\n",
       "    <tr>\n",
       "      <th>0</th>\n",
       "      <td>0.23</td>\n",
       "      <td>61.5</td>\n",
       "      <td>55.0</td>\n",
       "      <td>326</td>\n",
       "      <td>3.95</td>\n",
       "      <td>3.98</td>\n",
       "      <td>2.43</td>\n",
       "      <td>2</td>\n",
       "      <td>5</td>\n",
       "      <td>6</td>\n",
       "      <td>5.786897</td>\n",
       "      <td>-1.469676</td>\n",
       "    </tr>\n",
       "    <tr>\n",
       "      <th>1</th>\n",
       "      <td>0.74</td>\n",
       "      <td>62.2</td>\n",
       "      <td>56.0</td>\n",
       "      <td>2761</td>\n",
       "      <td>5.80</td>\n",
       "      <td>5.84</td>\n",
       "      <td>3.62</td>\n",
       "      <td>2</td>\n",
       "      <td>5</td>\n",
       "      <td>6</td>\n",
       "      <td>7.923348</td>\n",
       "      <td>-0.301105</td>\n",
       "    </tr>\n",
       "    <tr>\n",
       "      <th>2</th>\n",
       "      <td>0.73</td>\n",
       "      <td>61.8</td>\n",
       "      <td>58.0</td>\n",
       "      <td>2805</td>\n",
       "      <td>5.77</td>\n",
       "      <td>5.81</td>\n",
       "      <td>3.58</td>\n",
       "      <td>2</td>\n",
       "      <td>5</td>\n",
       "      <td>6</td>\n",
       "      <td>7.939159</td>\n",
       "      <td>-0.314711</td>\n",
       "    </tr>\n",
       "    <tr>\n",
       "      <th>3</th>\n",
       "      <td>0.77</td>\n",
       "      <td>60.7</td>\n",
       "      <td>55.0</td>\n",
       "      <td>2834</td>\n",
       "      <td>6.01</td>\n",
       "      <td>5.95</td>\n",
       "      <td>3.63</td>\n",
       "      <td>2</td>\n",
       "      <td>5</td>\n",
       "      <td>6</td>\n",
       "      <td>7.949444</td>\n",
       "      <td>-0.261365</td>\n",
       "    </tr>\n",
       "    <tr>\n",
       "      <th>4</th>\n",
       "      <td>0.81</td>\n",
       "      <td>60.3</td>\n",
       "      <td>57.0</td>\n",
       "      <td>2864</td>\n",
       "      <td>6.07</td>\n",
       "      <td>6.04</td>\n",
       "      <td>3.65</td>\n",
       "      <td>2</td>\n",
       "      <td>5</td>\n",
       "      <td>6</td>\n",
       "      <td>7.959975</td>\n",
       "      <td>-0.210721</td>\n",
       "    </tr>\n",
       "  </tbody>\n",
       "</table>\n",
       "</div>"
      ],
      "text/plain": [
       "   carat  depth  table  price     x     y     z  clarity_num  cut_num  \\\n",
       "0   0.23   61.5   55.0    326  3.95  3.98  2.43            2        5   \n",
       "1   0.74   62.2   56.0   2761  5.80  5.84  3.62            2        5   \n",
       "2   0.73   61.8   58.0   2805  5.77  5.81  3.58            2        5   \n",
       "3   0.77   60.7   55.0   2834  6.01  5.95  3.63            2        5   \n",
       "4   0.81   60.3   57.0   2864  6.07  6.04  3.65            2        5   \n",
       "\n",
       "   color_num  price_log  carat_log  \n",
       "0          6   5.786897  -1.469676  \n",
       "1          6   7.923348  -0.301105  \n",
       "2          6   7.939159  -0.314711  \n",
       "3          6   7.949444  -0.261365  \n",
       "4          6   7.959975  -0.210721  "
      ]
     },
     "execution_count": 14,
     "metadata": {},
     "output_type": "execute_result"
    }
   ],
   "source": [
    "df.head()"
   ]
  },
  {
   "cell_type": "code",
   "execution_count": 15,
   "id": "11eee22e",
   "metadata": {
    "ExecuteTime": {
     "end_time": "2022-07-19T20:37:03.987911Z",
     "start_time": "2022-07-19T20:37:03.976939Z"
    },
    "cell_style": "split"
   },
   "outputs": [
    {
     "data": {
      "text/html": [
       "<div>\n",
       "<style scoped>\n",
       "    .dataframe tbody tr th:only-of-type {\n",
       "        vertical-align: middle;\n",
       "    }\n",
       "\n",
       "    .dataframe tbody tr th {\n",
       "        vertical-align: top;\n",
       "    }\n",
       "\n",
       "    .dataframe thead th {\n",
       "        text-align: right;\n",
       "    }\n",
       "</style>\n",
       "<table border=\"1\" class=\"dataframe\">\n",
       "  <thead>\n",
       "    <tr style=\"text-align: right;\">\n",
       "      <th></th>\n",
       "      <th>carat_log</th>\n",
       "      <th>price_log</th>\n",
       "      <th>cut_num</th>\n",
       "      <th>color_num</th>\n",
       "      <th>clarity_num</th>\n",
       "    </tr>\n",
       "  </thead>\n",
       "  <tbody>\n",
       "    <tr>\n",
       "      <th>0</th>\n",
       "      <td>-1.469676</td>\n",
       "      <td>5.786897</td>\n",
       "      <td>5</td>\n",
       "      <td>6</td>\n",
       "      <td>2</td>\n",
       "    </tr>\n",
       "    <tr>\n",
       "      <th>1</th>\n",
       "      <td>-0.301105</td>\n",
       "      <td>7.923348</td>\n",
       "      <td>5</td>\n",
       "      <td>6</td>\n",
       "      <td>2</td>\n",
       "    </tr>\n",
       "    <tr>\n",
       "      <th>2</th>\n",
       "      <td>-0.314711</td>\n",
       "      <td>7.939159</td>\n",
       "      <td>5</td>\n",
       "      <td>6</td>\n",
       "      <td>2</td>\n",
       "    </tr>\n",
       "    <tr>\n",
       "      <th>3</th>\n",
       "      <td>-0.261365</td>\n",
       "      <td>7.949444</td>\n",
       "      <td>5</td>\n",
       "      <td>6</td>\n",
       "      <td>2</td>\n",
       "    </tr>\n",
       "    <tr>\n",
       "      <th>4</th>\n",
       "      <td>-0.210721</td>\n",
       "      <td>7.959975</td>\n",
       "      <td>5</td>\n",
       "      <td>6</td>\n",
       "      <td>2</td>\n",
       "    </tr>\n",
       "  </tbody>\n",
       "</table>\n",
       "</div>"
      ],
      "text/plain": [
       "   carat_log  price_log  cut_num  color_num  clarity_num\n",
       "0  -1.469676   5.786897        5          6            2\n",
       "1  -0.301105   7.923348        5          6            2\n",
       "2  -0.314711   7.939159        5          6            2\n",
       "3  -0.261365   7.949444        5          6            2\n",
       "4  -0.210721   7.959975        5          6            2"
      ]
     },
     "execution_count": 15,
     "metadata": {},
     "output_type": "execute_result"
    }
   ],
   "source": [
    "df_tratado.head()"
   ]
  },
  {
   "cell_type": "code",
   "execution_count": 16,
   "id": "3e62527c",
   "metadata": {
    "ExecuteTime": {
     "end_time": "2022-07-19T20:37:25.933985Z",
     "start_time": "2022-07-19T20:37:25.920023Z"
    }
   },
   "outputs": [
    {
     "name": "stdout",
     "output_type": "stream",
     "text": [
      "[2 3 5 4 6 7 1 8]\n"
     ]
    }
   ],
   "source": [
    "#cria uma lista com todos dados unicos na coluna clarity\n",
    "clar_lst = df_tratado.clarity_num.unique()\n",
    "print(clar_lst)"
   ]
  },
  {
   "cell_type": "code",
   "execution_count": 17,
   "id": "dea79cd4",
   "metadata": {
    "ExecuteTime": {
     "end_time": "2022-07-19T20:38:34.799627Z",
     "start_time": "2022-07-19T20:38:34.767711Z"
    }
   },
   "outputs": [],
   "source": [
    "#cria uma lista com dataframes para cada tipo de clarity\n",
    "dfs = [df_tratado.query(f'(clarity_num =={x})') for x in clar_lst]\n"
   ]
  },
  {
   "cell_type": "code",
   "execution_count": 18,
   "id": "eeaa04c9",
   "metadata": {
    "ExecuteTime": {
     "end_time": "2022-07-19T20:38:35.991482Z",
     "start_time": "2022-07-19T20:38:35.950592Z"
    }
   },
   "outputs": [],
   "source": [
    "# Gera modelos e salva em um dataframe\n",
    "modelos = [ger_model(df,LinearRegression()) for df in dfs]\n",
    "df_models = create_models_df(clar_lst,modelos)\n",
    "df_models.to_csv('models.csv',index=False)\n",
    "df_models['loaded_model'] = df_models['model_name'].apply(lambda x: joblib.load(x))"
   ]
  },
  {
   "cell_type": "code",
   "execution_count": 23,
   "id": "88cb363e",
   "metadata": {
    "ExecuteTime": {
     "end_time": "2022-07-19T20:48:31.221897Z",
     "start_time": "2022-07-19T20:48:31.208932Z"
    }
   },
   "outputs": [
    {
     "data": {
      "text/html": [
       "<div>\n",
       "<style scoped>\n",
       "    .dataframe tbody tr th:only-of-type {\n",
       "        vertical-align: middle;\n",
       "    }\n",
       "\n",
       "    .dataframe tbody tr th {\n",
       "        vertical-align: top;\n",
       "    }\n",
       "\n",
       "    .dataframe thead th {\n",
       "        text-align: right;\n",
       "    }\n",
       "</style>\n",
       "<table border=\"1\" class=\"dataframe\">\n",
       "  <thead>\n",
       "    <tr style=\"text-align: right;\">\n",
       "      <th></th>\n",
       "      <th>clarity_num</th>\n",
       "      <th>model_name</th>\n",
       "      <th>loaded_model</th>\n",
       "    </tr>\n",
       "  </thead>\n",
       "  <tbody>\n",
       "    <tr>\n",
       "      <th>0</th>\n",
       "      <td>2</td>\n",
       "      <td>2.pkl</td>\n",
       "      <td>LinearRegression()</td>\n",
       "    </tr>\n",
       "    <tr>\n",
       "      <th>1</th>\n",
       "      <td>3</td>\n",
       "      <td>3.pkl</td>\n",
       "      <td>LinearRegression()</td>\n",
       "    </tr>\n",
       "    <tr>\n",
       "      <th>2</th>\n",
       "      <td>5</td>\n",
       "      <td>5.pkl</td>\n",
       "      <td>LinearRegression()</td>\n",
       "    </tr>\n",
       "    <tr>\n",
       "      <th>3</th>\n",
       "      <td>4</td>\n",
       "      <td>4.pkl</td>\n",
       "      <td>LinearRegression()</td>\n",
       "    </tr>\n",
       "    <tr>\n",
       "      <th>4</th>\n",
       "      <td>6</td>\n",
       "      <td>6.pkl</td>\n",
       "      <td>LinearRegression()</td>\n",
       "    </tr>\n",
       "    <tr>\n",
       "      <th>5</th>\n",
       "      <td>7</td>\n",
       "      <td>7.pkl</td>\n",
       "      <td>LinearRegression()</td>\n",
       "    </tr>\n",
       "    <tr>\n",
       "      <th>6</th>\n",
       "      <td>1</td>\n",
       "      <td>1.pkl</td>\n",
       "      <td>LinearRegression()</td>\n",
       "    </tr>\n",
       "    <tr>\n",
       "      <th>7</th>\n",
       "      <td>8</td>\n",
       "      <td>8.pkl</td>\n",
       "      <td>LinearRegression()</td>\n",
       "    </tr>\n",
       "  </tbody>\n",
       "</table>\n",
       "</div>"
      ],
      "text/plain": [
       "   clarity_num model_name        loaded_model\n",
       "0            2      2.pkl  LinearRegression()\n",
       "1            3      3.pkl  LinearRegression()\n",
       "2            5      5.pkl  LinearRegression()\n",
       "3            4      4.pkl  LinearRegression()\n",
       "4            6      6.pkl  LinearRegression()\n",
       "5            7      7.pkl  LinearRegression()\n",
       "6            1      1.pkl  LinearRegression()\n",
       "7            8      8.pkl  LinearRegression()"
      ]
     },
     "execution_count": 23,
     "metadata": {},
     "output_type": "execute_result"
    }
   ],
   "source": [
    "df_models"
   ]
  },
  {
   "cell_type": "markdown",
   "id": "4d4f51bc",
   "metadata": {
    "ExecuteTime": {
     "end_time": "2022-07-19T20:50:48.579102Z",
     "start_time": "2022-07-19T20:50:48.562148Z"
    }
   },
   "source": [
    "# Previsão e avaliação do modelo"
   ]
  },
  {
   "cell_type": "code",
   "execution_count": 26,
   "id": "bae2d077",
   "metadata": {
    "ExecuteTime": {
     "end_time": "2022-07-19T20:53:19.690971Z",
     "start_time": "2022-07-19T20:53:00.072963Z"
    },
    "scrolled": true
   },
   "outputs": [
    {
     "data": {
      "text/plain": [
       "0.963"
      ]
     },
     "execution_count": 26,
     "metadata": {},
     "output_type": "execute_result"
    }
   ],
   "source": [
    "#cria um array com as previsões conforme cada linha do dataframe\n",
    "y_predict = df.apply(do_predict, axis=1, df_models = df_models)\n",
    "#seleciona a coluna real para comparar com o previsto\n",
    "y_real = df['price']\n",
    "#calcula r2 do model\n",
    "metrics.r2_score(y_real, y_predict).round(3)"
   ]
  },
  {
   "cell_type": "code",
   "execution_count": null,
   "id": "a6be6a43",
   "metadata": {},
   "outputs": [],
   "source": []
  }
 ],
 "metadata": {
  "kernelspec": {
   "display_name": "Python 3 (ipykernel)",
   "language": "python",
   "name": "python3"
  },
  "language_info": {
   "codemirror_mode": {
    "name": "ipython",
    "version": 3
   },
   "file_extension": ".py",
   "mimetype": "text/x-python",
   "name": "python",
   "nbconvert_exporter": "python",
   "pygments_lexer": "ipython3",
   "version": "3.8.5"
  },
  "toc": {
   "base_numbering": 1,
   "nav_menu": {},
   "number_sections": true,
   "sideBar": true,
   "skip_h1_title": false,
   "title_cell": "Table of Contents",
   "title_sidebar": "Contents",
   "toc_cell": false,
   "toc_position": {},
   "toc_section_display": true,
   "toc_window_display": false
  },
  "varInspector": {
   "cols": {
    "lenName": 16,
    "lenType": 16,
    "lenVar": 40
   },
   "kernels_config": {
    "python": {
     "delete_cmd_postfix": "",
     "delete_cmd_prefix": "del ",
     "library": "var_list.py",
     "varRefreshCmd": "print(var_dic_list())"
    },
    "r": {
     "delete_cmd_postfix": ") ",
     "delete_cmd_prefix": "rm(",
     "library": "var_list.r",
     "varRefreshCmd": "cat(var_dic_list()) "
    }
   },
   "types_to_exclude": [
    "module",
    "function",
    "builtin_function_or_method",
    "instance",
    "_Feature"
   ],
   "window_display": false
  }
 },
 "nbformat": 4,
 "nbformat_minor": 5
}
